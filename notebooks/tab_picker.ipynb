{
 "cells": [
  {
   "cell_type": "code",
   "execution_count": 1,
   "id": "aaf4bf0b",
   "metadata": {},
   "outputs": [],
   "source": [
    "import os\n",
    "import matplotlib.pyplot as plt\n",
    "import numpy as np\n",
    "import ecm\n",
    "import configparser\n",
    "from openpnm.topotools import plot_connections as pconn\n",
    "from openpnm.topotools import plot_coordinates as pcoord\n",
    "from ipywidgets import interact, interactive, fixed, interact_manual\n",
    "import ipywidgets as widgets\n",
    "import openpnm as op\n",
    "%matplotlib inline"
   ]
  },
  {
   "cell_type": "code",
   "execution_count": 27,
   "id": "9659c5b7",
   "metadata": {},
   "outputs": [],
   "source": [
    "wrk = op.Workspace()\n",
    "save_root = os.path.join(ecm.OUTPUT_DIR, \"spiral\")\n",
    "save_fig = os.path.join(save_root, 'tabs.png'),"
   ]
  },
  {
   "cell_type": "code",
   "execution_count": 28,
   "id": "eecb02c1",
   "metadata": {},
   "outputs": [],
   "source": [
    "def plot_topology(net):\n",
    "    inner = net[\"pore.inner\"]\n",
    "    outer = net[\"pore.outer\"]\n",
    "    fig, ax = plt.subplots(figsize=(10, 10))\n",
    "    ax = pconn(net, throats=net.throats(\"throat.neg_cc\"), c=\"blue\", ax=ax)\n",
    "    ax = pconn(net, throats=net.throats(\"throat.pos_cc\"), c=\"red\", ax=ax)\n",
    "    ax = pcoord(net, pores=net[\"pore.neg_cc\"], c=\"blue\", ax=ax)\n",
    "    ax = pcoord(net, pores=net[\"pore.pos_cc\"], c=\"red\", ax=ax)\n",
    "    ax = pcoord(net, pores=net[\"pore.neg_tab\"], c=\"blue\", s=300, ax=ax)\n",
    "    ax = pcoord(net, pores=net[\"pore.pos_tab\"], c=\"red\", s=300, ax=ax)\n",
    "    ax = pcoord(net, pores=inner, c=\"pink\", ax=ax)\n",
    "    ax = pcoord(net, pores=outer, c=\"yellow\", ax=ax)\n",
    "    ax = pcoord(net, pores=net.pores('free_stream'), c=\"green\", ax=ax)\n",
    "    ax = pconn(net, throats=net.throats(\"throat.free_stream\"), c=\"green\",\n",
    "                ax=ax)\n",
    "    t_sep = net.throats(\"spm_resistor\")\n",
    "    if len(t_sep) > 0:\n",
    "        ax = pconn(net, throats=net.throats(\"spm_resistor\"),c=\"k\", ax=ax)\n",
    "    plt.tight_layout()"
   ]
  },
  {
   "cell_type": "code",
   "execution_count": 29,
   "id": "94c98ea6",
   "metadata": {},
   "outputs": [],
   "source": [
    "def update_tabs(project, config):\n",
    "    net = project.network\n",
    "    sec = 'GEOMETRY'\n",
    "    print(net.labels())\n",
    "    for key in ['pos_tab', 'neg_tab']:\n",
    "        print(key, 'before', net.pores(key))\n",
    "        net['pore.'+key] = False\n",
    "        tab_list = json.loads(config.get(sec, key))\n",
    "        Ps = net.pores(key.strip('_tab')+'_cc')\n",
    "        Np = float(len(Ps)-1)\n",
    "        for i, elem in enumerate(tab_list):\n",
    "            relative_position = float(elem)\n",
    "            int_id = int(np.around(relative_position*Np))\n",
    "            net['pore.'+key.strip('s')][Ps[int_id]] = True\n",
    "        print(key, 'after', net.pores(key))"
   ]
  },
  {
   "cell_type": "code",
   "execution_count": 30,
   "id": "001c4004",
   "metadata": {},
   "outputs": [],
   "source": [
    "def update_plot(p1, p2, p3, p4, p5, n1, n2, n3, n4, n5, net):\n",
    "    pos_Ps = net.pores('pos_cc')\n",
    "    neg_Ps = net.pores('neg_cc')\n",
    "    pos_ints = [p1, p2, p3, p4, p5]\n",
    "    neg_ints = [n1, n2, n3, n4, n5]\n",
    "    pos_tabs = pos_Ps[pos_ints]\n",
    "    neg_tabs = neg_Ps[neg_ints]\n",
    "    net['pore.pos_tab'] = False\n",
    "    net['pore.neg_tab'] = False\n",
    "    net['pore.pos_tab'][pos_tabs] = True\n",
    "    net['pore.neg_tab'][neg_tabs] = True\n",
    "    plot_topology(net)"
   ]
  },
  {
   "cell_type": "code",
   "execution_count": 54,
   "id": "64ed98f1-9189-4521-a444-7775ce949ff1",
   "metadata": {},
   "outputs": [],
   "source": [
    "Npoints = 36\n",
    "dtheta=int(360/Npoints)\n",
    "spacing=200e-6\n",
    "inner_r=1.5e-3\n",
    "pos_tabs=[0]\n",
    "neg_tabs=[-1]\n",
    "tesla_tabs=False\n",
    "Nlayers=5\n",
    "length_3d=650e-3"
   ]
  },
  {
   "cell_type": "code",
   "execution_count": 53,
   "id": "4ee4159c",
   "metadata": {},
   "outputs": [
    {
     "name": "stderr",
     "output_type": "stream",
     "text": [
      "------------------------------------------------------------\n",
      "CRITICAL   : front and back labels have been switched to obey the right-hand rule \n",
      "SOURCE     : openpnm.network.Cubic.__init__ \n",
      "TIME STAMP : 2024-02-07 12:27:20,261\n",
      "------------------------------------------------------------\n",
      "------------------------------------------------------------\n",
      "CRITICAL   : front and back labels have been switched to obey the right-hand rule \n",
      "SOURCE     : openpnm.network.Cubic.__init__ \n",
      "TIME STAMP : 2024-02-07 12:27:20,275\n",
      "------------------------------------------------------------\n",
      "------------------------------------------------------------\n",
      "CRITICAL   : front and back labels have been switched to obey the right-hand rule \n",
      "SOURCE     : openpnm.network.Cubic.__init__ \n",
      "TIME STAMP : 2024-02-07 12:27:20,279\n",
      "------------------------------------------------------------\n"
     ]
    },
    {
     "name": "stdout",
     "output_type": "stream",
     "text": [
      "Num pos 180 Num neg 180\n"
     ]
    }
   ],
   "source": [
    "project, arc_edges = ecm.make_spiral_net(\n",
    "    dtheta=dtheta,\n",
    "    spacing=spacing,\n",
    "    inner_r=inner_r,\n",
    "    pos_tabs=pos_tabs,\n",
    "    neg_tabs=neg_tabs,\n",
    "    tesla_tabs=tesla_tabs,\n",
    "    Nlayers=Nlayers,\n",
    "    length_3d=length_3d\n",
    ")\n",
    "net = project.network\n",
    "Npcc = net.num_pores('pos_cc')\n",
    "Nncc = net.num_pores('neg_cc')\n",
    "print('Num pos', Npcc, 'Num neg', Nncc)"
   ]
  },
  {
   "cell_type": "code",
   "execution_count": 61,
   "id": "f5b70bf3",
   "metadata": {},
   "outputs": [
    {
     "name": "stdout",
     "output_type": "stream",
     "text": [
      "[0, 36, 72, 108, 144] [162, 126, 90, 54, 18]\n"
     ]
    }
   ],
   "source": [
    "init_pos = [0 + (Npoints*i) for i in range(5)]\n",
    "init_neg = [(Nncc-int(Npoints/2)) - (Npoints*i) for i in range(5)]\n",
    "print(init_pos, init_neg)"
   ]
  },
  {
   "cell_type": "code",
   "execution_count": 62,
   "id": "bd6d27ac",
   "metadata": {},
   "outputs": [
    {
     "data": {
      "application/vnd.jupyter.widget-view+json": {
       "model_id": "fc123837806443549f33838491c7fc3e",
       "version_major": 2,
       "version_minor": 0
      },
      "text/plain": [
       "interactive(children=(IntSlider(value=0, description='p1', max=180), IntSlider(value=36, description='p2', max…"
      ]
     },
     "metadata": {},
     "output_type": "display_data"
    },
    {
     "data": {
      "text/plain": [
       "<function __main__.update_plot(p1, p2, p3, p4, p5, n1, n2, n3, n4, n5, net)>"
      ]
     },
     "execution_count": 62,
     "metadata": {},
     "output_type": "execute_result"
    }
   ],
   "source": [
    "interact_manual(update_plot,\n",
    "                p1=widgets.IntSlider(min=0, max=Npcc, step=1, value=init_pos[0]),\n",
    "                p2=widgets.IntSlider(min=0, max=Npcc, step=1, value=init_pos[1]),\n",
    "                p3=widgets.IntSlider(min=0, max=Npcc, step=1, value=init_pos[2]),\n",
    "                p4=widgets.IntSlider(min=0, max=Npcc, step=1, value=init_pos[3]),\n",
    "                p5=widgets.IntSlider(min=0, max=Npcc, step=1, value=init_pos[4]),\n",
    "                n1=widgets.IntSlider(min=0, max=Nncc, step=1, value=init_neg[0]),\n",
    "                n2=widgets.IntSlider(min=0, max=Nncc, step=1, value=init_neg[1]),\n",
    "                n3=widgets.IntSlider(min=0, max=Nncc, step=1, value=init_neg[2]),\n",
    "                n4=widgets.IntSlider(min=0, max=Nncc, step=1, value=init_neg[3]),\n",
    "                n5=widgets.IntSlider(min=0, max=Nncc, step=1, value=init_neg[4]),\n",
    "                net=fixed(net))"
   ]
  },
  {
   "cell_type": "code",
   "execution_count": 63,
   "id": "bd0efeff",
   "metadata": {},
   "outputs": [],
   "source": [
    "neg_cc_lens = net['throat.arc_length'][net['throat.neg_cc']]\n",
    "cum_len = np.cumsum(neg_cc_lens)\n",
    "P_neg_tab = np.argmin(cum_len < cum_len[-1]/2)"
   ]
  },
  {
   "cell_type": "code",
   "execution_count": 64,
   "id": "37e5dfa5",
   "metadata": {},
   "outputs": [],
   "source": [
    "pos_cc_lens = net['throat.arc_length'][net['throat.pos_cc']]\n",
    "cum_len = np.cumsum(neg_cc_lens)\n",
    "P_pos_tab = np.argmin(cum_len < cum_len[-1]/2)"
   ]
  },
  {
   "cell_type": "code",
   "execution_count": 65,
   "id": "8e4127e2",
   "metadata": {},
   "outputs": [
    {
     "name": "stdout",
     "output_type": "stream",
     "text": [
      "106 106\n"
     ]
    }
   ],
   "source": [
    "print(P_neg_tab, P_pos_tab)"
   ]
  },
  {
   "cell_type": "code",
   "execution_count": 66,
   "id": "ea812b3a",
   "metadata": {},
   "outputs": [
    {
     "data": {
      "text/plain": [
       "array([[  1],\n",
       "       [ 73],\n",
       "       [145],\n",
       "       [217],\n",
       "       [289]], dtype=int64)"
      ]
     },
     "execution_count": 66,
     "metadata": {},
     "output_type": "execute_result"
    }
   ],
   "source": [
    "np.argwhere(net['pore.pos_tab'])"
   ]
  },
  {
   "cell_type": "code",
   "execution_count": null,
   "id": "b872f3af",
   "metadata": {},
   "outputs": [],
   "source": []
  }
 ],
 "metadata": {
  "kernelspec": {
   "display_name": "Python 3 (ipykernel)",
   "language": "python",
   "name": "python3"
  },
  "language_info": {
   "codemirror_mode": {
    "name": "ipython",
    "version": 3
   },
   "file_extension": ".py",
   "mimetype": "text/x-python",
   "name": "python",
   "nbconvert_exporter": "python",
   "pygments_lexer": "ipython3",
   "version": "3.11.7"
  }
 },
 "nbformat": 4,
 "nbformat_minor": 5
}
