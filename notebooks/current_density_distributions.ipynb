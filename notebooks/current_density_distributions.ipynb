{
 "cells": [
  {
   "cell_type": "code",
   "execution_count": 1,
   "metadata": {},
   "outputs": [],
   "source": [
    "import pybamm\n",
    "import openpnm as op\n",
    "import matplotlib.pyplot as plt\n",
    "import os\n",
    "from scipy import io\n",
    "import numpy as np\n",
    "from scipy.stats import lognorm as dist, kstest\n",
    "from ipywidgets import interact, interactive, fixed, interact_manual\n",
    "import ipywidgets as widgets\n",
    "import openpnm as op\n",
    "import ecm\n",
    "%matplotlib inline"
   ]
  },
  {
   "cell_type": "code",
   "execution_count": 2,
   "metadata": {},
   "outputs": [],
   "source": [
    "pybamm.set_logging_level(\"INFO\")\n",
    "wrk = op.Workspace()\n",
    "wrk.clear()"
   ]
  },
  {
   "cell_type": "code",
   "execution_count": 5,
   "metadata": {},
   "outputs": [],
   "source": [
    "save_parent = \"C:\\Code\\JellyBaMM_Data\\pybamm_pnm_case1_Chen2020\"\n",
    "sub = '5.25A'\n",
    "save_root = save_parent + '\\\\' + sub\n",
    "file_lower = os.path.join(save_root, 'var_Current_collector_current_density_lower')\n",
    "file_upper = os.path.join(save_root, 'var_Current_collector_current_density_upper')\n",
    "data_lower = io.loadmat(file_lower)['data']\n",
    "data_upper = io.loadmat(file_upper)['data']\n",
    "input_dir = ecm.INPUT_DIR\n",
    "wrk.load_project(os.path.join(input_dir, 'spider_net.pnm'))\n",
    "sim_name = list(wrk.keys())[-1]\n",
    "project = wrk[sim_name]\n",
    "net = project.network\n",
    "Nspm = net.num_throats('spm_resistor')\n",
    "data_amalg = np.hstack((data_lower, data_upper))\n",
    "data_amalg = data_amalg[:-1, :]\n",
    "weights = net['throat.arc_length'][net.throats('spm_resistor')]\n",
    "int_weights = np.around(weights/weights.min()*100, 0).astype(int)\n"
   ]
  },
  {
   "cell_type": "code",
   "execution_count": 6,
   "metadata": {},
   "outputs": [],
   "source": [
    "if np.any(np.isnan(data_amalg[-1, :])):\n",
    "    data_amalg = data_amalg[:-1, :]\n",
    "abs_min = data_amalg.min()\n",
    "abs_max = data_amalg.max()"
   ]
  },
  {
   "cell_type": "code",
   "execution_count": 7,
   "metadata": {},
   "outputs": [],
   "source": [
    "def plot(t):\n",
    "    fig, ax = plt.subplots(figsize=(10, 10))\n",
    "    data_t = data_amalg[t, :]\n",
    "    full_data_t = np.repeat(data_t, int_weights)\n",
    "    sample = np.random.choice(full_data_t, 5000)\n",
    "    args = dist.fit(sample)\n",
    "    ks = kstest(sample, 'lognorm', args=args)\n",
    "    start = data_t.min()\n",
    "    end = data_t.max()\n",
    "    x = np.linspace(start, end, 1000)\n",
    "    ax.hist(data_t, bins=50, density=True, weights=weights)\n",
    "    ax.plot(x, dist.pdf(x, *args))\n",
    "    #ax.set_xlim(abs_min, abs_max)\n",
    "    plt.show()"
   ]
  },
  {
   "cell_type": "code",
   "execution_count": 8,
   "metadata": {},
   "outputs": [
    {
     "data": {
      "application/vnd.jupyter.widget-view+json": {
       "model_id": "571590b04d6b4b1b883e95ccf4fbb8b6",
       "version_major": 2,
       "version_minor": 0
      },
      "text/plain": [
       "interactive(children=(IntSlider(value=0, description='t', max=226), Output()), _dom_classes=('widget-interact'…"
      ]
     },
     "metadata": {},
     "output_type": "display_data"
    },
    {
     "data": {
      "text/plain": [
       "<function __main__.plot(t)>"
      ]
     },
     "execution_count": 8,
     "metadata": {},
     "output_type": "execute_result"
    }
   ],
   "source": [
    "interact(plot, t=widgets.IntSlider(min=0, max=data_amalg.shape[0]-1, step=1, value=0))"
   ]
  },
  {
   "cell_type": "code",
   "execution_count": 9,
   "metadata": {},
   "outputs": [],
   "source": [
    "neg_inner_weights = net['throat.arc_length'][net.throats('spm_neg_inner')]\n",
    "neg_inner_distance = np.cumsum(neg_inner_weights)\n",
    "pos_inner_weights = net['throat.arc_length'][net.throats('spm_pos_inner')]\n",
    "pos_inner_distance = np.cumsum(pos_inner_weights)\n",
    "mean_t = []\n",
    "m_minus_t = []\n",
    "m_plus_t = []\n",
    "Iy_t = []\n",
    "for t in range(data_amalg.shape[0]):\n",
    "    data_t = data_amalg[t, :]\n",
    "    mean, _ = ecm.weighted_avg_and_std(data_t, weights)\n",
    "    diff = (data_t - mean)*weights\n",
    "    Iy = np.sum(weights*((data_t-mean)**3)/3)\n",
    "    m_p = np.mean(diff[diff > 0])/np.mean(weights[diff > 0])\n",
    "    m_m = np.mean(diff[diff <=0])/np.mean(weights[diff <=0])\n",
    "    mean_t.append(mean)\n",
    "    m_minus_t.append(m_m)\n",
    "    m_plus_t.append(m_p)\n",
    "    Iy_t.append(Iy)\n",
    "min_t = np.min(data_amalg, axis=1)\n",
    "max_t = np.max(data_amalg, axis=1)"
   ]
  },
  {
   "cell_type": "code",
   "execution_count": 10,
   "metadata": {},
   "outputs": [],
   "source": [
    "def plot_lower(t):\n",
    "    #data_t = data_amalg[t, :]\n",
    "    #mean, _ = ecm.weighted_avg_and_std(data_t, weights)\n",
    "    #m2 = np.sum(weights*(data_t - mean)**2)/np.sum(weights)\n",
    "    #diff = (data_t - mean)*weights\n",
    "    #m_plus = np.mean(diff[diff > 0])/np.mean(weights[diff > 0])\n",
    "    #m_minus = np.mean(diff[diff <=0])/np.mean(weights[diff <=0])\n",
    "    #m_mean = np.mean(diff)/np.mean(weights)\n",
    "    mean = mean_t[t]\n",
    "    m_minus = m_minus_t[t]\n",
    "    m_plus = m_plus_t[t]\n",
    "    fig, ax = plt.subplots(figsize=(10, 10))\n",
    "    ax.plot(neg_inner_distance, data_lower[t, :])\n",
    "    ax.plot(pos_inner_distance, data_upper[t, :])\n",
    "    ax.plot([0, pos_inner_distance.max()], [mean, mean], 'r--')\n",
    "    ax.plot([0, pos_inner_distance.max()], [mean+m_plus, mean+m_plus], 'y--')\n",
    "    ax.plot([0, pos_inner_distance.max()], [mean+m_minus, mean+m_minus], 'g--')\n",
    "    ax.plot([0, pos_inner_distance.max()], [max_t[t], max_t[t]], 'k--')\n",
    "    ax.plot([0, pos_inner_distance.max()], [min_t[t], min_t[t]], 'k--')\n",
    "    ax.set_ylim(abs_min, abs_max)\n",
    "    #plt.title(str(m_minus) +' '+str(m_plus)+' '+str(m_mean) +' '+str(np.sum(diff)))\n",
    "    plt.show()"
   ]
  },
  {
   "cell_type": "code",
   "execution_count": 11,
   "metadata": {},
   "outputs": [
    {
     "data": {
      "application/vnd.jupyter.widget-view+json": {
       "model_id": "f62cdfe5fc784087ae0ed31b2ab0bbc4",
       "version_major": 2,
       "version_minor": 0
      },
      "text/plain": [
       "interactive(children=(IntSlider(value=0, description='t', max=226), Output()), _dom_classes=('widget-interact'…"
      ]
     },
     "metadata": {},
     "output_type": "display_data"
    },
    {
     "data": {
      "text/plain": [
       "<function __main__.plot_lower(t)>"
      ]
     },
     "execution_count": 11,
     "metadata": {},
     "output_type": "execute_result"
    }
   ],
   "source": [
    "interact(plot_lower, t=widgets.IntSlider(min=0, max=data_amalg.shape[0]-1, step=1, value=0))"
   ]
  },
  {
   "cell_type": "code",
   "execution_count": 12,
   "metadata": {},
   "outputs": [
    {
     "data": {
      "text/plain": [
       "[<matplotlib.lines.Line2D at 0x136a9b680d0>]"
      ]
     },
     "execution_count": 12,
     "metadata": {},
     "output_type": "execute_result"
    },
    {
     "data": {
      "image/png": "[encoded data removed]",
      "text/plain": [
       "<Figure size 1000x1000 with 1 Axes>"
      ]
     },
     "metadata": {},
     "output_type": "display_data"
    }
   ],
   "source": [
    "plt.figure(figsize=(10, 10))\n",
    "plt.plot(Iy_t/mean)"
   ]
  },
  {
   "cell_type": "code",
   "execution_count": 91,
   "metadata": {},
   "outputs": [
    {
     "data": {
      "text/plain": [
       "126.9831363697881"
      ]
     },
     "execution_count": 91,
     "metadata": {},
     "output_type": "execute_result"
    }
   ],
   "source": [
    "mean"
   ]
  },
  {
   "cell_type": "code",
   "execution_count": null,
   "metadata": {},
   "outputs": [],
   "source": []
  }
 ],
 "metadata": {
  "kernelspec": {
   "display_name": "Python 3 (ipykernel)",
   "language": "python",
   "name": "python3"
  },
  "language_info": {
   "codemirror_mode": {
    "name": "ipython",
    "version": 3
   },
   "file_extension": ".py",
   "mimetype": "text/x-python",
   "name": "python",
   "nbconvert_exporter": "python",
   "pygments_lexer": "ipython3",
   "version": "3.11.7"
  }
 },
 "nbformat": 4,
 "nbformat_minor": 4
}
